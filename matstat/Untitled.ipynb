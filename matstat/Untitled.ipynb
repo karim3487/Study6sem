{
 "cells": [
  {
   "cell_type": "code",
   "execution_count": 69,
   "id": "1ff5c45d",
   "metadata": {},
   "outputs": [],
   "source": [
    "# !pip install statsmodels\n",
    "# !pip install seaborn"
   ]
  },
  {
   "cell_type": "code",
   "execution_count": 70,
   "id": "e6810014",
   "metadata": {},
   "outputs": [],
   "source": [
    "import matplotlib.pyplot as plt\n",
    "import numpy as np\n",
    "import pandas as pd\n",
    "import statistics as st\n",
    "from scipy import stats\n",
    "from statsmodels.distributions.empirical_distribution import ECDF\n",
    "import seaborn as sns"
   ]
  },
  {
   "cell_type": "code",
   "execution_count": 71,
   "id": "8c46196a",
   "metadata": {},
   "outputs": [],
   "source": [
    "array = np.array([8.5, 7.1, 6.7, 6.2, 2.9, 4.4, 6.0, 5.8, 5.4, 8.2, 6.9,\n",
    "        6.5, 6.1, 3.8, 6.0, 6.0, 5.6, 5.3, 7.7, 6.8, 6.5, 6.1,\n",
    "        4.2, 4.7, 5.6, 5.4, 5.3, 7.4, 6.7, 6.4, 6.1, 4.5, 6.0,\n",
    "        5.8, 5.6, 5.1])\n",
    "array.sort()\n",
    "\n",
    "sample_size = array.size\n",
    "sum_arr = np.sum(array)\n",
    "sample_mean = array.mean()\n",
    "arr_median = np.median(array)\n",
    "arr_mode = st.mode(array)\n",
    "arr_var = np.var(array)\n",
    "arr_std = np.std(array)\n",
    "arr_mse = np.sqrt(np.square(array)).mean()\n",
    "arr_min = min(array)\n",
    "arr_max = max(array)\n",
    "arr_uq = np.quantile(array, 0.75)\n",
    "arr_lq = np.quantile(array, 0.25)\n",
    "arr_asymmetry_factors = stats.skew(array, axis=0, bias=True)\n",
    "arr_kurtosis_factors = stats.kurtosis(array, axis=0, bias=True)"
   ]
  },
  {
   "cell_type": "code",
   "execution_count": 72,
   "id": "daa72e5c",
   "metadata": {},
   "outputs": [
    {
     "name": "stdout",
     "output_type": "stream",
     "text": [
      "Объем выборки = 36\n",
      "Выборочное среднее = 5.925\n",
      "Медиана = 6.0\n",
      "Мода = 6.0\n",
      "Выборочная дисперсия = 1.315763888888889\n",
      "Выборочное среднекв откл = 1.1470675171448665\n",
      "Минимум = 2.9\n",
      "Максимум = 8.5\n",
      "Размах выборки = 5.6\n",
      "Верхний квантиль = 6.55\n",
      "Нижний квантиль = 5.375\n",
      "Интерквартильный размах = 1.1749999999999998\n",
      "Коэффициент асимметрии = -0.18051635132613744\n",
      "Коэффициент эксцесса = 0.45811449793689807\n"
     ]
    }
   ],
   "source": [
    "print(f'Объем выборки = {sample_size}')\n",
    "print(f'Выборочное среднее = {sample_mean}')\n",
    "print(f'Медиана = {arr_median}')\n",
    "print(f'Мода = {arr_mode}')\n",
    "print(f'Выборочная дисперсия = {arr_var}')\n",
    "print(f'Выборочное среднекв откл = {arr_std}')\n",
    "print(f'Минимум = {arr_min}')\n",
    "print(f'Максимум = {arr_max}')\n",
    "print(f'Размах выборки = {arr_max - arr_min}')\n",
    "print(f'Верхний квантиль = {arr_uq}')\n",
    "print(f'Нижний квантиль = {arr_lq}')\n",
    "print(f'Интерквартильный размах = {arr_uq - arr_lq}')\n",
    "print(f'Коэффициент асимметрии = {arr_asymmetry_factors}')\n",
    "print(f'Коэффициент эксцесса = {arr_kurtosis_factors}')"
   ]
  },
  {
   "cell_type": "code",
   "execution_count": 73,
   "id": "91501eb0",
   "metadata": {},
   "outputs": [
    {
     "data": {
      "image/png": "[encoded data removed]",
      "text/plain": [
       "<Figure size 432x288 with 1 Axes>"
      ]
     },
     "metadata": {
      "needs_background": "light"
     },
     "output_type": "display_data"
    }
   ],
   "source": [
    "# гистограмма по частоте\n",
    "bins = list(np.arange(np.min(array), np.max(array) + 0.2, 0.1))\n",
    "plt.hist(array, bins = bins, color = 'lightgreen', edgecolor = 'black', rwidth = 0.9)\n",
    "plt.grid(axis = 'y', alpha = 0.15)\n",
    "plt.xlabel('Значение')\n",
    "plt.ylabel('Частота')\n",
    "plt.title('Гистограмма по частоте')\n",
    "plt.tight_layout()\n",
    "plt.show()\n"
   ]
  },
  {
   "cell_type": "code",
   "execution_count": 74,
   "id": "d7508cdb",
   "metadata": {},
   "outputs": [
    {
     "data": {
      "image/png": "[encoded data removed]",
      "text/plain": [
       "<Figure size 432x288 with 1 Axes>"
      ]
     },
     "metadata": {
      "needs_background": "light"
     },
     "output_type": "display_data"
    }
   ],
   "source": [
    "# график эмперической функции\n",
    "ecdf = ECDF(array)\n",
    "#plt.plot(ecdf.x, ecdf.y, marker = '.', linestyle='solid')\n",
    "sns.kdeplot(array, cumulative=True)\n",
    "plt.ylabel('$F(x)$', fontsize = 20)\n",
    "plt.xlabel('$x$', fontsize = 20)\n",
    "plt.tight_layout()\n",
    "plt.show()\n"
   ]
  },
  {
   "cell_type": "code",
   "execution_count": null,
   "id": "3358aabf",
   "metadata": {},
   "outputs": [],
   "source": []
  }
 ],
 "metadata": {
  "kernelspec": {
   "display_name": "Python 3 (ipykernel)",
   "language": "python",
   "name": "python3"
  },
  "language_info": {
   "codemirror_mode": {
    "name": "ipython",
    "version": 3
   },
   "file_extension": ".py",
   "mimetype": "text/x-python",
   "name": "python",
   "nbconvert_exporter": "python",
   "pygments_lexer": "ipython3",
   "version": "3.9.15"
  }
 },
 "nbformat": 4,
 "nbformat_minor": 5
}
