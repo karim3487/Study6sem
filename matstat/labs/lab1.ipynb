{
 "cells": [
  {
   "cell_type": "code",
   "execution_count": 5,
   "id": "841a4475",
   "metadata": {},
   "outputs": [
    {
     "name": "stdout",
     "output_type": "stream",
     "text": [
      "Collecting plotly\n",
      "  Downloading plotly-5.14.0-py2.py3-none-any.whl (15.3 MB)\n",
      "\u001b[2K     \u001b[90m━━━━━━━━━━━━━━━━━━━━━━━━━━━━━━━━━━━━━━━\u001b[0m \u001b[32m15.3/15.3 MB\u001b[0m \u001b[31m165.4 kB/s\u001b[0m eta \u001b[36m0:00:00\u001b[0m00:01\u001b[0m00:03\u001b[0m\n",
      "\u001b[?25hRequirement already satisfied: packaging in /Library/Frameworks/Python.framework/Versions/3.10/lib/python3.10/site-packages (from plotly) (23.0)\n",
      "Collecting tenacity>=6.2.0\n",
      "  Downloading tenacity-8.2.2-py3-none-any.whl (24 kB)\n",
      "Installing collected packages: tenacity, plotly\n",
      "Successfully installed plotly-5.14.0 tenacity-8.2.2\n"
     ]
    }
   ],
   "source": [
    "# !pip install statsmodels\n",
    "# !pip install seaborn\n",
    "# !pip install matplotlib\n",
    "# !pip install numpy\n",
    "# !pip install pandas\n",
    "# !pip install scipy\n",
    "!pip3 install plotly\n"
   ]
  },
  {
   "cell_type": "code",
   "execution_count": 2,
   "id": "8555825b",
   "metadata": {},
   "outputs": [
    {
     "ename": "ModuleNotFoundError",
     "evalue": "No module named 'plotly'",
     "output_type": "error",
     "traceback": [
      "\u001b[0;31m---------------------------------------------------------------------------\u001b[0m",
      "\u001b[0;31mModuleNotFoundError\u001b[0m                       Traceback (most recent call last)",
      "Cell \u001b[0;32mIn[2], line 8\u001b[0m\n\u001b[1;32m      6\u001b[0m \u001b[38;5;28;01mfrom\u001b[39;00m \u001b[38;5;21;01mstatsmodels\u001b[39;00m\u001b[38;5;21;01m.\u001b[39;00m\u001b[38;5;21;01mdistributions\u001b[39;00m\u001b[38;5;21;01m.\u001b[39;00m\u001b[38;5;21;01mempirical_distribution\u001b[39;00m \u001b[38;5;28;01mimport\u001b[39;00m ECDF\n\u001b[1;32m      7\u001b[0m \u001b[38;5;28;01mimport\u001b[39;00m \u001b[38;5;21;01mseaborn\u001b[39;00m \u001b[38;5;28;01mas\u001b[39;00m \u001b[38;5;21;01msns\u001b[39;00m\n\u001b[0;32m----> 8\u001b[0m \u001b[38;5;28;01mimport\u001b[39;00m \u001b[38;5;21;01mplotly\u001b[39;00m\u001b[38;5;21;01m.\u001b[39;00m\u001b[38;5;21;01mexpress\u001b[39;00m \u001b[38;5;28;01mas\u001b[39;00m \u001b[38;5;21;01mpx\u001b[39;00m\n\u001b[1;32m      9\u001b[0m \u001b[38;5;28;01mfrom\u001b[39;00m \u001b[38;5;21;01mscipy\u001b[39;00m\u001b[38;5;21;01m.\u001b[39;00m\u001b[38;5;21;01mstats\u001b[39;00m \u001b[38;5;28;01mimport\u001b[39;00m norm\n",
      "\u001b[0;31mModuleNotFoundError\u001b[0m: No module named 'plotly'"
     ]
    }
   ],
   "source": [
    "import matplotlib.pyplot as plt\n",
    "import numpy as np\n",
    "import pandas as pd\n",
    "import statistics as st\n",
    "from scipy import stats\n",
    "from statsmodels.distributions.empirical_distribution import ECDF\n",
    "import seaborn as sns\n",
    "import plotly.express as px\n",
    "from scipy.stats import norm"
   ]
  },
  {
   "cell_type": "code",
   "execution_count": 3,
   "id": "0813a617",
   "metadata": {},
   "outputs": [],
   "source": [
    "array = np.array([8.5, 7.1, 6.7, 6.2, 2.9, 4.4, 6.0, 5.8, 5.4, 8.2, 6.9,\n",
    "        6.5, 6.1, 3.8, 6.0, 6.0, 5.6, 5.3, 7.7, 6.8, 6.5, 6.1,\n",
    "        4.2, 4.7, 5.6, 5.4, 5.3, 7.4, 6.7, 6.4, 6.1, 4.5, 6.0,\n",
    "        5.8, 5.6, 5.1])\n",
    "array.sort() # вариационный ряд\n",
    "\n",
    "sample_size = array.size\n",
    "sum_arr = np.sum(array)\n",
    "sample_mean = array.mean()\n",
    "arr_median = np.median(array)\n",
    "arr_mode = st.mode(array)\n",
    "arr_var = np.var(array)\n",
    "arr_std = np.std(array)\n",
    "arr_mse = np.sqrt(np.square(array)).mean()\n",
    "arr_min = min(array)\n",
    "arr_max = max(array)\n",
    "arr_uq = np.quantile(array, 0.75)\n",
    "arr_lq = np.quantile(array, 0.25)\n",
    "arr_asymmetry_factors = stats.skew(array, axis=0, bias=True)\n",
    "arr_kurtosis_factors = stats.kurtosis(array, axis=0, bias=True)"
   ]
  },
  {
   "cell_type": "code",
   "execution_count": null,
   "id": "8af5a69f",
   "metadata": {},
   "outputs": [],
   "source": [
    "print(f'Объем выборки = {sample_size}')\n",
    "print(f'Выборочное среднее = {sample_mean}')\n",
    "print(f'Медиана = {arr_median}')\n",
    "print(f'Мода = {arr_mode}')\n",
    "print(f'Выборочная дисперсия = {arr_var}')\n",
    "print(f'Выборочное среднекв откл = {arr_std}')\n",
    "print(f'Минимум = {arr_min}')\n",
    "print(f'Максимум = {arr_max}')\n",
    "print(f'Размах выборки = {arr_max - arr_min}')\n",
    "print(f'Верхний квантиль = {arr_uq}')\n",
    "print(f'Нижний квантиль = {arr_lq}')\n",
    "print(f'Интерквартильный размах = {arr_uq - arr_lq}')\n",
    "print(f'Коэффициент асимметрии = {arr_asymmetry_factors}')\n",
    "print(f'Коэффициент эксцесса = {arr_kurtosis_factors}')"
   ]
  },
  {
   "cell_type": "code",
   "execution_count": null,
   "id": "cc8791e8",
   "metadata": {},
   "outputs": [],
   "source": [
    "# гистограмма по частоте\n",
    "mu, std = norm.fit(array)\n",
    "\n",
    "%matplotlib inline\n",
    "plt.rcParams.update({'figure.figsize':(7,5), 'figure.dpi':100})\n",
    "plt.grid(True, alpha=0.2)\n",
    "plt.hist(array, bins=36, color='b', density=True, alpha=0.6)\n",
    "xmin, xmax = plt.xlim()\n",
    "x = np.linspace(xmin, xmax, 100)\n",
    "p = norm.pdf(x, mu, std)\n",
    "title = \"Fit Values: {:.2f} and {:.2f}\".format(mu, std)\n",
    "plt.title(title)\n",
    "\n",
    "plt.gca().set(title='Гистограмма по частоте', ylabel='Частота', xlabel='Значения');"
   ]
  },
  {
   "cell_type": "code",
   "execution_count": null,
   "id": "2951a6d5",
   "metadata": {},
   "outputs": [],
   "source": [
    "ecdf = ECDF(array)\n",
    "plt.ylabel('$F(x)$', fontsize = 20)\n",
    "plt.xlabel('$x$', fontsize = 20)\n",
    "plt.plot(ecdf.x, ecdf.y, marker='.', linestyle='none')\n",
    "plt.gca().set(title='График эмпирической функции');\n"
   ]
  },
  {
   "cell_type": "code",
   "execution_count": null,
   "id": "cf0522f4",
   "metadata": {},
   "outputs": [],
   "source": [
    "my_array = np.insert(array, 0, 0)\n",
    "my_array = np.append(my_array, 9)\n",
    "print(my_array)\n",
    "px.ecdf(my_array, markers=True)\n"
   ]
  },
  {
   "cell_type": "code",
   "execution_count": 9,
   "id": "520298d4",
   "metadata": {},
   "outputs": [
    {
     "data": {
      "image/png": "[encoded data removed]",
      "text/plain": [
       "<Figure size 700x500 with 1 Axes>"
      ]
     },
     "metadata": {
      "needs_background": "light"
     },
     "output_type": "display_data"
    }
   ],
   "source": [
    "bin_dt, bin_gr = np.histogram(array, bins=len(array))\n",
    "Y = bin_dt.cumsum()\n",
    "for i in range(len(Y)):\n",
    "    plt.plot([bin_gr[i], bin_gr[i+1]],[Y[i], Y[i]],color='green')"
   ]
  },
  {
   "cell_type": "code",
   "execution_count": null,
   "id": "fc9e8fcf",
   "metadata": {},
   "outputs": [],
   "source": []
  }
 ],
 "metadata": {
  "kernelspec": {
   "display_name": "Python 3 (ipykernel)",
   "language": "python",
   "name": "python3"
  },
  "language_info": {
   "codemirror_mode": {
    "name": "ipython",
    "version": 3
   },
   "file_extension": ".py",
   "mimetype": "text/x-python",
   "name": "python",
   "nbconvert_exporter": "python",
   "pygments_lexer": "ipython3",
   "version": "3.10.10"
  },
  "toc": {
   "base_numbering": 1,
   "nav_menu": {},
   "number_sections": true,
   "sideBar": true,
   "skip_h1_title": false,
   "title_cell": "Table of Contents",
   "title_sidebar": "Contents",
   "toc_cell": false,
   "toc_position": {},
   "toc_section_display": true,
   "toc_window_display": false
  },
  "varInspector": {
   "cols": {
    "lenName": 16,
    "lenType": 16,
    "lenVar": 40
   },
   "kernels_config": {
    "python": {
     "delete_cmd_postfix": "",
     "delete_cmd_prefix": "del ",
     "library": "var_list.py",
     "varRefreshCmd": "print(var_dic_list())"
    },
    "r": {
     "delete_cmd_postfix": ") ",
     "delete_cmd_prefix": "rm(",
     "library": "var_list.r",
     "varRefreshCmd": "cat(var_dic_list()) "
    }
   },
   "types_to_exclude": [
    "module",
    "function",
    "builtin_function_or_method",
    "instance",
    "_Feature"
   ],
   "window_display": false
  }
 },
 "nbformat": 4,
 "nbformat_minor": 5
}
