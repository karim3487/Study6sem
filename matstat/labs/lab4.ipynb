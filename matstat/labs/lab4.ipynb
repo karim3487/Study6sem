{
 "cells": [
  {
   "cell_type": "markdown",
   "id": "71185748",
   "metadata": {},
   "source": [
    "Практическая работа 4 (Оценивание параметров вероятностных распределений)\n",
    "\n",
    "Задание:\n",
    "Распределение Парето: получить точечные и интервальные оценки, оценить по методу максимального правдоподобия параметры распределения. Вычислить интервальную оценку.Построение доверительного интервала гамма=0,95. Оценка максимального правдоподобия встроенной функции.\n",
    "\n",
    "К точечным оценкам относится метод моментов и метод максимального правдоподобия\n",
    "\n",
    "Начальные центральные моменты (обычно в точечных оценках наивысших порядок 4, более 4 порядка оценки считаются несостоятельными)"
   ]
  },
  {
   "cell_type": "code",
   "execution_count": 63,
   "id": "df9ad8ff",
   "metadata": {},
   "outputs": [
    {
     "name": "stdout",
     "output_type": "stream",
     "text": [
      "Мат. ожидание: 1.727\n",
      "Дисперсия:  1.491\n",
      "\n",
      "Точечные оценки методом моментов:\n",
      "Форма распределения (b): 1.9989131107485343\n",
      "Параметр масштаба (scale): 0.863777464431383\n",
      "\n",
      "Точечные оценки методом максимального правдоподобия:\n",
      "Форма распределения (b): 1.0\n",
      "Параметр масштаба (scale): 13.57278924632906\n",
      "\n",
      "Доверительный интервал (gamma = 0.95):\n",
      "Нижняя граница: 3.8660777005472236\n",
      "Верхняя граница: 4.349504369335205\n"
     ]
    }
   ],
   "source": [
    "import numpy as np\n",
    "from scipy.stats import pareto\n",
    "from scipy.optimize import minimize\n",
    "\n",
    "# Генерируем некоторые данные из распределения Парето\n",
    "# np.random.seed(0)\n",
    "data = pareto.rvs(b=2.5, size=1000)\n",
    "\n",
    "print(\"Мат. ожидание:\", np.round(np.mean(data), 3))\n",
    "print(\"Дисперсия: \", np.round(np.var(data), 3))\n",
    "print()\n",
    "\n",
    "# Метод моментов\n",
    "mean_data = np.mean(data)\n",
    "var_data = np.var(data)\n",
    "shape_mom = mean_data**2 / var_data\n",
    "scale_mom = var_data / mean_data\n",
    "\n",
    "# Метод максимального правдоподобия\n",
    "def neg_log_likelihood(params, data):\n",
    "    shape, loc, scale = params\n",
    "    return -np.sum(pareto.logpdf(data, b=shape, loc=loc, scale=scale))\n",
    "\n",
    "initial_guess = [1, np.min(data), np.max(data)]\n",
    "result = minimize(neg_log_likelihood, initial_guess, args=(data,))\n",
    "shape_mle, loc_mle, scale_mle = result.x\n",
    "\n",
    "# Построение доверительного интервала\n",
    "alpha = 0.95\n",
    "n = len(data)\n",
    "critical_value = pareto.ppf(1 - alpha, b=shape_mle, loc=loc_mle, scale=scale_mle)\n",
    "margin_of_error = critical_value / np.sqrt(n)\n",
    "lower_bound = scale_mom / (np.power(1 - alpha, 1 / shape_mom))\n",
    "upper_bound = scale_mom / (np.power(1 - alpha, 1 / shape_mom)) + margin_of_error\n",
    "\n",
    "# Вывод результатов\n",
    "print(\"Точечные оценки методом моментов:\")\n",
    "print(\"Форма распределения (b):\", shape_mom)\n",
    "print(\"Параметр масштаба (scale):\", scale_mom)\n",
    "print(\"\\nТочечные оценки методом максимального правдоподобия:\")\n",
    "print(\"Форма распределения (b):\", shape_mle)\n",
    "print(\"Параметр масштаба (scale):\", scale_mle)\n",
    "print(\"\\nДоверительный интервал (gamma = 0.95):\")\n",
    "print(\"Нижняя граница:\", lower_bound)\n",
    "print(\"Верхняя граница:\", upper_bound)\n"
   ]
  },
  {
   "cell_type": "code",
   "execution_count": 17,
   "id": "55f7208e",
   "metadata": {},
   "outputs": [
    {
     "name": "stdout",
     "output_type": "stream",
     "text": [
      "Теоретическое значение параметра: 0.5\n",
      "Оценка методом максимального правдоподобия: 0.4982361400520858\n",
      "\n",
      "Разница: 0.0017638599479142258\n"
     ]
    }
   ],
   "source": [
    "import numpy as np\n",
    "from scipy.stats import expon\n",
    "\n",
    "# Заданный параметр экспоненциального распределения\n",
    "lambda_true = 0.5\n",
    "\n",
    "# Генерация выборки экспоненциального распределения\n",
    "np.random.seed(0)\n",
    "sample = expon.rvs(scale=1/lambda_true, size=1000)\n",
    "\n",
    "# Метод максимального правдоподобия\n",
    "lambda_mle = 1 / np.mean(sample)\n",
    "\n",
    "# Вывод результатов\n",
    "print(f\"Теоретическое значение параметра: {lambda_true}\")\n",
    "print(f\"Оценка методом максимального правдоподобия: {lambda_mle}\")\n",
    "print(f\"\\nРазница: {abs(lambda_true - lambda_mle)}\")\n"
   ]
  },
  {
   "cell_type": "code",
   "execution_count": 7,
   "id": "971a0ced",
   "metadata": {},
   "outputs": [
    {
     "data": {
      "text/plain": [
       "0.0017638599479142258"
      ]
     },
     "execution_count": 7,
     "metadata": {},
     "output_type": "execute_result"
    }
   ],
   "source": [
    "abs(lambda_true - lambda_mle)"
   ]
  },
  {
   "cell_type": "code",
   "execution_count": null,
   "id": "f874ce6d",
   "metadata": {},
   "outputs": [],
   "source": []
  }
 ],
 "metadata": {
  "kernelspec": {
   "display_name": "Python 3 (ipykernel)",
   "language": "python",
   "name": "python3"
  },
  "language_info": {
   "codemirror_mode": {
    "name": "ipython",
    "version": 3
   },
   "file_extension": ".py",
   "mimetype": "text/x-python",
   "name": "python",
   "nbconvert_exporter": "python",
   "pygments_lexer": "ipython3",
   "version": "3.10.10"
  },
  "toc": {
   "base_numbering": 1,
   "nav_menu": {},
   "number_sections": true,
   "sideBar": true,
   "skip_h1_title": false,
   "title_cell": "Table of Contents",
   "title_sidebar": "Contents",
   "toc_cell": false,
   "toc_position": {},
   "toc_section_display": true,
   "toc_window_display": false
  },
  "varInspector": {
   "cols": {
    "lenName": 16,
    "lenType": 16,
    "lenVar": 40
   },
   "kernels_config": {
    "python": {
     "delete_cmd_postfix": "",
     "delete_cmd_prefix": "del ",
     "library": "var_list.py",
     "varRefreshCmd": "print(var_dic_list())"
    },
    "r": {
     "delete_cmd_postfix": ") ",
     "delete_cmd_prefix": "rm(",
     "library": "var_list.r",
     "varRefreshCmd": "cat(var_dic_list()) "
    }
   },
   "types_to_exclude": [
    "module",
    "function",
    "builtin_function_or_method",
    "instance",
    "_Feature"
   ],
   "window_display": false
  }
 },
 "nbformat": 4,
 "nbformat_minor": 5
}
