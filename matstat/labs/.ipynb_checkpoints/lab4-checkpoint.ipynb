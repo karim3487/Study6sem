{
 "cells": [
  {
   "cell_type": "markdown",
   "id": "3a40615c",
   "metadata": {},
   "source": [
    "Практическая работа №4 (Оценивание параметров вероятностных распределений)\n",
    "\n",
    "Задание:\n",
    "Выбрать распределение по номеру подгруппы получить точечные и интервальные оценки, оценить по методу максимального правдоподобия параметры выбранного распределения\n",
    "\n",
    "Распределение берется из ПР №3\n",
    "К точечным оценкам относится метод моментов и метод максимального правдоподобия\n",
    "\n",
    "Начальные центральные моменты (обычно в точечных оценках наивысших порядок 4, более 4 порядка оценки считаются несостоятельными)\n",
    "\n",
    "Интервальная оценка\n",
    "Построение доверительного интервала гамма=0,95\n",
    "ОЦенка максимального правдоподобия встроенной функции"
   ]
  },
  {
   "cell_type": "code",
   "execution_count": 10,
   "id": "232faaf4",
   "metadata": {},
   "outputs": [
    {
     "name": "stdout",
     "output_type": "stream",
     "text": [
      "Метод моментов:\n",
      "Оценка параметров формы (метод моментов): -1.2473650661780418\n",
      "Оценка параметра масштаба (метод моментов): 1.073288525170087\n",
      "\n",
      "Оценка максимального правдоподобия:\n",
      "Оценка параметра формы (оценка максимального правдоподобия): 2.066593958837591\n",
      "Оценка параметра масштаба (оценка максимального правдоподобия): 1.0023240880945543\n",
      "\n",
      "Доверительный интервал (метод моментов): (nan, nan)\n"
     ]
    },
    {
     "name": "stderr",
     "output_type": "stream",
     "text": [
      "/var/folders/f_/z84n4xj17p9f_lxmbcc4yx4h0000gn/T/ipykernel_70107/2234044219.py:20: RuntimeWarning: divide by zero encountered in log\n",
      "  log_likelihood = -np.sum(np.log(pareto.pdf(data, b=shape, scale=scale)))\n"
     ]
    }
   ],
   "source": [
    "import numpy as np\n",
    "from scipy.stats import pareto\n",
    "from scipy.optimize import minimize\n",
    "\n",
    "# Generate random data for the Pareto distribution\n",
    "np.random.seed(42)\n",
    "data = pareto.rvs(b=2, size=1000)\n",
    "\n",
    "# Method of moments for estimating the parameters of the Pareto distribution\n",
    "def method_of_moments(data):\n",
    "    mean = np.mean(data)\n",
    "    variance = np.var(data)\n",
    "    shape = mean * (mean - variance) / variance\n",
    "    scale = mean * shape / (shape - 1)\n",
    "    return shape, scale\n",
    "\n",
    "# Maximum likelihood estimation for the parameters of the Pareto distribution\n",
    "def negative_log_likelihood(params, data):\n",
    "    shape, scale = params\n",
    "    log_likelihood = -np.sum(np.log(pareto.pdf(data, b=shape, scale=scale)))\n",
    "    return log_likelihood\n",
    "\n",
    "def maximum_likelihood_estimation(data):\n",
    "    result = minimize(negative_log_likelihood, x0=[1, 1], args=(data,), method='Nelder-Mead')\n",
    "    shape, scale = result.x\n",
    "    return shape, scale\n",
    "\n",
    "# Parameter estimation using the method of moments\n",
    "mm_shape, mm_scale = method_of_moments(data)\n",
    "\n",
    "# Parameter estimation using maximum likelihood estimation\n",
    "mle_shape, mle_scale = maximum_likelihood_estimation(data)\n",
    "\n",
    "# Confidence interval using the built-in function in scipy.stats\n",
    "confidence_interval = pareto.interval(0.95, b=mm_shape, scale=mm_scale)\n",
    "\n",
    "print(\"Метод моментов:\")\n",
    "print(\"Оценка параметров формы (метод моментов):\", mm_shape)\n",
    "print(\"Оценка параметра масштаба (метод моментов):\", mm_scale)\n",
    "print()\n",
    "\n",
    "print(\"Оценка максимального правдоподобия:\")\n",
    "print(\"Оценка параметра формы (оценка максимального правдоподобия):\", mle_shape)\n",
    "print(\"Оценка параметра масштаба (оценка максимального правдоподобия):\", mle_scale)\n",
    "print()\n",
    "\n",
    "# print(\"Доверительный интервал (метод моментов):\", confidence_interval)"
   ]
  },
  {
   "cell_type": "code",
   "execution_count": null,
   "id": "f7e53dbb",
   "metadata": {},
   "outputs": [],
   "source": []
  }
 ],
 "metadata": {
  "kernelspec": {
   "display_name": "Python 3 (ipykernel)",
   "language": "python",
   "name": "python3"
  },
  "language_info": {
   "codemirror_mode": {
    "name": "ipython",
    "version": 3
   },
   "file_extension": ".py",
   "mimetype": "text/x-python",
   "name": "python",
   "nbconvert_exporter": "python",
   "pygments_lexer": "ipython3",
   "version": "3.10.10"
  },
  "toc": {
   "base_numbering": 1,
   "nav_menu": {},
   "number_sections": true,
   "sideBar": true,
   "skip_h1_title": false,
   "title_cell": "Table of Contents",
   "title_sidebar": "Contents",
   "toc_cell": false,
   "toc_position": {},
   "toc_section_display": true,
   "toc_window_display": false
  },
  "varInspector": {
   "cols": {
    "lenName": 16,
    "lenType": 16,
    "lenVar": 40
   },
   "kernels_config": {
    "python": {
     "delete_cmd_postfix": "",
     "delete_cmd_prefix": "del ",
     "library": "var_list.py",
     "varRefreshCmd": "print(var_dic_list())"
    },
    "r": {
     "delete_cmd_postfix": ") ",
     "delete_cmd_prefix": "rm(",
     "library": "var_list.r",
     "varRefreshCmd": "cat(var_dic_list()) "
    }
   },
   "types_to_exclude": [
    "module",
    "function",
    "builtin_function_or_method",
    "instance",
    "_Feature"
   ],
   "window_display": false
  }
 },
 "nbformat": 4,
 "nbformat_minor": 5
}
