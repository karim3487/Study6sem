{
 "cells": [
  {
   "cell_type": "code",
   "execution_count": 66,
   "metadata": {},
   "outputs": [],
   "source": [
    "# !pip install networkx\n",
    "# !pip install matplotlib"
   ]
  },
  {
   "cell_type": "code",
   "execution_count": 119,
   "metadata": {},
   "outputs": [],
   "source": [
    "import networkx as nx\n",
    "import matplotlib.pyplot as plt"
   ]
  },
  {
   "cell_type": "code",
   "execution_count": 147,
   "metadata": {},
   "outputs": [],
   "source": [
    "G = nx.Graph()"
   ]
  },
  {
   "cell_type": "code",
   "execution_count": null,
   "metadata": {},
   "outputs": [],
   "source": [
    "def get_count_node():\n",
    "    while True:\n",
    "        try:\n",
    "            count_node = int((input(\"Введите количество узлов: \")))\n",
    "            if count_node < 15:\n",
    "                raise ValueError\n",
    "            return count_node\n",
    "        except ValueError:\n",
    "            print(\"Попробуйте еще раз!\")\n",
    "\n",
    "def name_node():\n",
    "    graph_nodes = list(G.nodes())\n",
    "    while True:\n",
    "        while True:\n",
    "            try:\n",
    "                name = int((input(\"Введите название для узла(цифру): \")))\n",
    "\n",
    "                if name in graph_nodes:\n",
    "                    raise ValueError\n",
    "                return name\n",
    "            except ValueError:\n",
    "                print(\"Попробуйте еще раз!\")\n",
    "                \n",
    "def add_edge():\n",
    "    nodes_lst = list(G.nodes)\n",
    "    while True:\n",
    "        print(f\"Вот список вершин: {nodes_lst}\\n\")\n",
    "        nodes_to_join = input(f\"Введите ДВЕ вершины которые хотите соединить: \").split(' ')\n",
    "        if is_correct_edge(nodes_to_join, nodes_lst):\n",
    "            return nodes_to_join\n",
    "        else:\n",
    "            print(\"NO OK\")\n",
    "        \n",
    "\n",
    "def is_correct_edge(nodes_to_join, nodes_lst):\n",
    "    pri\n",
    "    is_two_nodes = len(nodes_to_join) == 2\n",
    "    is_G_contains_nodes = set(nodes_to_join).issubset(set(nodes_lst))\n",
    "    if is_two_nodes and is_G_contains_nodes:\n",
    "        return True\n",
    "    return False\n"
   ]
  },
  {
   "cell_type": "code",
   "execution_count": 142,
   "metadata": {},
   "outputs": [
    {
     "name": "stdout",
     "output_type": "stream",
     "text": [
      "Введите количество узлов15\n",
      "15\n"
     ]
    }
   ],
   "source": [
    "count_nodes = get_count_node()\n",
    "print(count_nodes)"
   ]
  },
  {
   "cell_type": "code",
   "execution_count": 149,
   "metadata": {},
   "outputs": [],
   "source": [
    "count_nodes = 5"
   ]
  },
  {
   "cell_type": "code",
   "execution_count": 150,
   "metadata": {},
   "outputs": [
    {
     "name": "stdout",
     "output_type": "stream",
     "text": [
      "5\n",
      "#1\tВведите название для узла(цифру): 1\n",
      "#2\tВведите название для узла(цифру): 2\n",
      "#3\tВведите название для узла(цифру): 3\n",
      "#4\tВведите название для узла(цифру): 4\n",
      "#5\tВведите название для узла(цифру): 5\n"
     ]
    },
    {
     "data": {
      "image/png": "[encoded data removed]",
      "text/plain": [
       "<Figure size 750x350 with 1 Axes>"
      ]
     },
     "metadata": {},
     "output_type": "display_data"
    }
   ],
   "source": [
    "print(count_nodes)\n",
    "for i in range(count_nodes):    \n",
    "    print(f\"#{i + 1}\", end=\"\\t\")\n",
    "    name = name_node()\n",
    "    G.add_node(name)\n",
    "nx.draw(G, with_labels=True)"
   ]
  },
  {
   "cell_type": "code",
   "execution_count": null,
   "metadata": {},
   "outputs": [
    {
     "name": "stdout",
     "output_type": "stream",
     "text": [
      "Хотите добавить ребро?\n",
      "1. Да\n",
      "2. Нет\n",
      ">>> 1\n",
      "Вот список вершин: [1, 2, 3, 4, 5]\n",
      "\n",
      "Введите ДВЕ вершины которые хотите соединить: 1 2\n",
      "NO OK\n",
      "Вот список вершин: [1, 2, 3, 4, 5]\n",
      "\n",
      "Введите ДВЕ вершины которые хотите соединить: a v\n",
      "NO OK\n",
      "Вот список вершин: [1, 2, 3, 4, 5]\n",
      "\n",
      "Введите ДВЕ вершины которые хотите соединить: 1 2\n",
      "NO OK\n",
      "Вот список вершин: [1, 2, 3, 4, 5]\n",
      "\n"
     ]
    }
   ],
   "source": [
    "while True:\n",
    "    choice = input(\"Хотите добавить ребро?\\n1. Да\\n2. Нет\\n>>> \")\n",
    "    match choice:\n",
    "        case '1':\n",
    "            add_edge()\n",
    "            break\n",
    "        case '2':\n",
    "            break\n",
    "        case __:\n",
    "            print('Вы ввели что-то не то, попробуйте еще раз!')\n",
    "    "
   ]
  },
  {
   "cell_type": "code",
   "execution_count": 153,
   "metadata": {},
   "outputs": [
    {
     "name": "stdout",
     "output_type": "stream",
     "text": [
      "False\n",
      "True\n"
     ]
    },
    {
     "data": {
      "text/plain": [
       "False"
      ]
     },
     "execution_count": 153,
     "metadata": {},
     "output_type": "execute_result"
    }
   ],
   "source": [
    "lst = list(G.nodes) # [1, 2, 3, 4, 5]\n",
    "c_lst1 = [1, 6]\n",
    "c_lst2 = [1, 2]\n",
    "\n",
    "print(all(item in lst for item in c_lst1))\n",
    "print(all(item in lst for item in c_lst2))\n",
    "set(c_lst1).issubset(set(lst))"
   ]
  },
  {
   "cell_type": "code",
   "execution_count": 117,
   "metadata": {},
   "outputs": [
    {
     "name": "stdout",
     "output_type": "stream",
     "text": [
      "<class 'dict_keys'>\n"
     ]
    }
   ],
   "source": [
    "lst = {\n",
    "    'A': {'B': 12,},\n",
    "    'B': []\n",
    "}\n"
   ]
  },
  {
   "cell_type": "markdown",
   "metadata": {},
   "source": []
  }
 ],
 "metadata": {
  "kernelspec": {
   "display_name": "Python 3 (ipykernel)",
   "language": "python",
   "name": "python3"
  },
  "language_info": {
   "codemirror_mode": {
    "name": "ipython",
    "version": 3
   },
   "file_extension": ".py",
   "mimetype": "text/x-python",
   "name": "python",
   "nbconvert_exporter": "python",
   "pygments_lexer": "ipython3",
   "version": "3.10.4"
  }
 },
 "nbformat": 4,
 "nbformat_minor": 1
}
